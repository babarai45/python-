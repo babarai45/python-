{
 "cells": [
  {
   "cell_type": "markdown",
   "metadata": {},
   "source": [
    "# 10 important messages for learning :\n",
    "# 1. Don't be afraid to ask questions.\n",
    "# 2. Don't be afraid to make mistakes. \n",
    "# 3. Don't be afraid to learn from your mistakes.  \n",
    "# 4. Don't be afraid to learn from others.  \n",
    "# 5. Don't be afraid to learn from your experiences.\n",
    "# 6. Don't be afraid to learn from your failures.\n",
    "# 7. Don't be afraid to learn from your successes.\n",
    "# 8. Don't be afraid to learn from your challenges.\n",
    "# 9. Don't be afraid to learn from your opportunities.\n",
    "# 10. Don't be afraid to learn from your life.\n",
    "# reading and writing \n",
    "# 1. Read some other expersts  \n",
    "# 2. Write your own thoughts if your expert in that topic"
   ]
  },
  {
   "cell_type": "markdown",
   "metadata": {},
   "source": [
    "# important\n",
    "# a = 5\n",
    "# always right side is calling the left side\n",
    "# and left side is assinging the value to right side"
   ]
  },
  {
   "cell_type": "markdown",
   "metadata": {},
   "source": [
    "# DAta types in  Python \n",
    "## 1. numeric data types (int, float, complex)\n",
    "## 2. sequence data types (list, tuple, range)\n",
    "## 3. text data type (str)\n",
    "## 4. set data type (set)\n",
    "## 5. mapping data type (dict)\n",
    "## 6. boolean data type (bool)\n"
   ]
  },
  {
   "cell_type": "code",
   "execution_count": 2,
   "metadata": {},
   "outputs": [
    {
     "name": "stdout",
     "output_type": "stream",
     "text": [
      "int have deafult avalue is  0\n",
      "float  have deafult avalue is  0.0\n",
      "bolean have deafult avalue is  False\n",
      "string  have deafult avalue is  \n",
      "string  have deafult avalue is  Non \n",
      "complex  have deafult avalue is  0j\n",
      "complex  have deafult avalue is  (2+3j)\n",
      "list  have deafult avalue is  []\n",
      "list  have deafult avalue is  [1, 2, 3]\n",
      "<class 'tuple'> default value is  ()\n",
      "Your name is  babar\n"
     ]
    }
   ],
   "source": [
    "#  1 numeric data types\n",
    "# integer default value is 0 \n",
    "a=int()\n",
    "print(\"int have deafult avalue is \",a)\n",
    "#########\n",
    "b=float()\n",
    "print(\"float  have deafult avalue is \",b)\n",
    "##########\n",
    "c=bool()\n",
    "print(\"bolean have deafult avalue is \",c)\n",
    "#############\n",
    "3# string default value is  blank space or Non \n",
    "# Example\n",
    "text=\"\"\n",
    "print(\"string  have deafult avalue is \",text)  # sapace  or Non \n",
    "# Example\n",
    "\n",
    "text = \"\"\n",
    "print(\"string  have deafult avalue is  Non\",text)\n",
    "# 4 complex default value is 0j\n",
    "# Example\n",
    "d=complex()\n",
    "print(\"complex  have deafult avalue is \",d)  # 0j\n",
    "# Example\n",
    "d=complex(2,3)\n",
    "print(\"complex  have deafult avalue is \",d)  # (2+3j)\n",
    "# 5 list default value is []\n",
    "# Example\n",
    "e=list()\n",
    "print(\"list  have deafult avalue is \",e)  # []\n",
    "# Example\n",
    "e=[1,2,3]\n",
    "print(\"list  have deafult avalue is \",e)  # [1, 2, 3]\n",
    "########## \n",
    "f=()\n",
    "print(type(f) ,\"default value is \",f)\n",
    "###############\n",
    "\n"
   ]
  },
  {
   "cell_type": "markdown",
   "metadata": {},
   "source": [
    "# Assing multiple values to multiple variables \n",
    "a, b, c = 5, 3.2, \"Hello\"\n",
    "a,b,c=10"
   ]
  },
  {
   "cell_type": "code",
   "execution_count": 10,
   "metadata": {},
   "outputs": [
    {
     "name": "stdout",
     "output_type": "stream",
     "text": [
      "2 5 hello [1, 4, 5]\n",
      "10 10 10\n",
      "10 data [8, 7, 8]\n"
     ]
    }
   ],
   "source": [
    "#Example 1\n",
    "a,b,c,t,=2,5,\"hello\",[1,4,5,]\n",
    "print(a,b,c,t)\n",
    "# Example 2\n",
    "e=y=u=10   # we can one value assigne for multiple variable in one line \n",
    "print(e,y,u,)\n",
    "# Example 4 \n",
    "m=10;u=\"data\";y=[8,7,8,] # we can initialize multiple varable with different names with different data types in single line \n",
    "print(m,u,y)\n"
   ]
  },
  {
   "cell_type": "markdown",
   "metadata": {},
   "source": []
  },
  {
   "cell_type": "markdown",
   "metadata": {},
   "source": [
    "# difference between moudle and package and library and framework ?\n",
    "## Module: A module is a file containing Python definitions and statements. The file name is the module name with the suffix .py added.\n",
    "## Package: A package is a hierarchical file directory structure that defines a single Python application environment that consists of modules and subpackages and sub-subpackages, and so on.\n",
    "## Library: A library is a collection of functions / objects that serves one particular purpose. you could use a library in a variety of projects. (e.g. numpy, pandas)\n",
    "## Framework: A framework is a collection of packages or libraries that will help you to write your application. (e.g. Django, Flask)\n",
    "####################################################################3\n",
    "Certainly! Let's delve into the differences between **modules**, **packages**, **libraries**, and **frameworks** in Python:\n",
    "\n",
    "1. **Modules**:\n",
    "    - A **module** is a fundamental building block in Python.\n",
    "    - It is a collection of related code saved in a file with the `.py` extension.\n",
    "    - Modules can contain functions, classes, variables, and even runnable code.\n",
    "    - For example, you might define a function to welcome new students in a module named `welcome.py`.\n",
    "    - To use a function from a module, you import it using the `import` statement.\n",
    "    - Example:\n",
    "        ```python\n",
    "        # welcome.py\n",
    "        def welcome_message(course):\n",
    "            print(f\"Thank you for subscribing to our {course} course. You will get all the details in an email shortly.\")\n",
    "\n",
    "        # main.py\n",
    "        import welcome\n",
    "        welcome.welcome_message(\"Python Basics Part 1\")\n",
    "        # Output: Thank you for subscribing to our Python Basics Part 1 course. You will get all the details in an email shortly.\n",
    "        ```\n",
    "    - Modules improve code organization and simplify development by breaking tasks into smaller subtasks.\n",
    "\n",
    "2. **Packages**:\n",
    "    - A **package** is a collection of related **modules**.\n",
    "    - It must contain an `__init__.py` file (which can be empty) to be recognized as a package.\n",
    "    - Packages allow you to organize modules hierarchically.\n",
    "    - Example: The `math` package contains modules like `math.sqrt`, `math.sin`, etc.\n",
    "\n",
    "3. **Libraries**:\n",
    "    - A **library** is an umbrella term referring to a reusable chunk of code.\n",
    "    - It often contains a collection of related **modules** and **packages**.\n",
    "    - Libraries provide specific functionalities.\n",
    "    - For instance:\n",
    "        - The `random` library generates pseudo-random numbers.\n",
    "        - The `html` library parses HTML pages.\n",
    "        - The `datetime` library manipulates date and time data.\n",
    "        - The `re` library detects and parses regular expressions.\n",
    "\n",
    "4. **Frameworks**:\n",
    "    - A **framework** is more complex than a **library**.\n",
    "    - It provides the basic flow and architecture for an application.\n",
    "    - Frameworks guide how you structure your code and handle common tasks.\n",
    "    - They often include multiple libraries and modules.\n",
    "    - Examples of Python frameworks:\n",
    "        - **Django**: A web framework for building robust web applications.\n",
    "        - **Flask**: A lightweight web framework for smaller projects.\n",
    "        - **PyTorch** and **TensorFlow**: Frameworks for machine learning and deep learning.\n",
    "\n",
    "In summary:\n",
    "- **Modules** are individual files containing code.\n",
    "- **Packages** group related modules together.\n",
    "- **Libraries** provide specific functionalities.\n",
    "- **Frameworks** offer a structured architecture for building applications.\n",
    "\n",
    "Remember, these distinctions help developers choose the right tools for their specific needs! 🚀🐍\n",
    "\n",
    "Source: Conversation with Bing, 2/4/2024\n",
    "(1) Difference Between Python Modules, Packages, Libraries, and Frameworks. https://learnpython.com/blog/python-modules-packages-libraries-frameworks/.\n",
    "(2) Module, Package, Library or Framework? - DEV Community. https://dev.to/lucs1590/python-module-vs-package-vs-library-vs-framework-4i0p.\n",
    "(3) Framework vs library vs package vs module: The debate. https://medium.com/ieee-ensias-student-branch/framework-vs-library-vs-package-vs-module-the-debate-e1013a3e114d.\n",
    "(4) Difference between a module, library and a framework. https://stackoverflow.com/questions/4099975/difference-between-a-module-library-and-a-framework.\n"
   ]
  },
  {
   "cell_type": "markdown",
   "metadata": {},
   "source": [
    "# what is keyword in python?\n",
    "# Keywords are the reserved words in Python.\n",
    "# We cannot use a keyword as a variable name, function name or any other identifier.\n",
    "# They are used to define the syntax and structure of the Python language.\n",
    "# In Python, keywords are case sensitive.\n"
   ]
  },
  {
   "cell_type": "markdown",
   "metadata": {},
   "source": [
    "# what is keyword in python?\n",
    "# Keywords are the reserved words in Python.\n",
    "# We cannot use a keyword as a variable name, function name or any other identifier.\n",
    "# They are used to define the syntax and structure of the Python language.\n",
    "In Python, **keywords** are reserved words that have special meanings and cannot be used as identifiers (such as variable names or function names). These keywords serve specific purposes in the language. Here are some key points about Python keywords:\n",
    "\n",
    "1. **Hard Keywords**: These are the standard keywords that are part of the Python language. Examples include `if`, `else`, `while`, `for`, `def`, `class`, and `return`.\n",
    "\n",
    "2. **Soft Keywords**: The term \"soft keywords\" is not commonly used in Python. However, it seems to refer to identifiers that are not reserved but have special meanings in certain contexts. For example, `None`, `True`, and `False` are not hard keywords, but they represent special values (boolean literals) in Python.\n",
    "\n",
    "3. **Boolean Literals**:\n",
    "    - `True` and `False` are boolean literals representing the truth values.\n",
    "    - `None` represents the absence of a value (similar to null or undefined in other languages).\n",
    "\n",
    "4. **Usage**:\n",
    "    - You can use these keywords in your Python code to create conditional statements, loops, functions, and classes.\n",
    "    - For example:\n",
    "        ```python\n",
    "        if condition:\n",
    "            # Do something\n",
    "        else:\n",
    "            # Do something else\n",
    "\n",
    "        while condition:\n",
    "            # Keep looping\n",
    "\n",
    "        def my_function():\n",
    "            # Function definition\n",
    "\n",
    "        class MyClass:\n",
    "            # Class definition\n",
    "        ```\n",
    "\n",
    "In summary, Python keywords play a crucial role in defining the language's syntax and behavior. They are essential for writing structured and meaningful code. 🐍"
   ]
  },
  {
   "cell_type": "code",
   "execution_count": 3,
   "metadata": {},
   "outputs": [
    {
     "name": "stdout",
     "output_type": "stream",
     "text": [
      "['False', 'None', 'True', 'and', 'as', 'assert', 'async', 'await', 'break', 'class', 'continue', 'def', 'del', 'elif', 'else', 'except', 'finally', 'for', 'from', 'global', 'if', 'import', 'in', 'is', 'lambda', 'nonlocal', 'not', 'or', 'pass', 'raise', 'return', 'try', 'while', 'with', 'yield']\n",
      "35  total keywords  in python \n",
      "it is keyword\n",
      "True\n",
      "False\n",
      "None\n",
      "<class 'bool'> <class 'bool'> <class 'NoneType'>\n"
     ]
    }
   ],
   "source": [
    "# keywords in pytho \n",
    "import keyword # here is keyword module is used to print all the keywords in python\n",
    "print(keyword.kwlist) # here what is kwlist is show list of all keywords in python\n",
    "# Example 1\n",
    "print(len(keyword.kwlist),\" total keywords  in python \") # here len is used to show the length of keyword in python\n",
    "user_keyword=input(\"Enter the keyword to check is it keyword or not \")\n",
    "if user_keyword in keyword.kwlist:\n",
    "    print(\"it is keyword\")\n",
    "# from these keywords some keywords are soft keywords and some are hard keywords \n",
    "# soft keywords (True,False,None)\n",
    "# hard keywords (if,else,elif,while,for,etc)\n",
    "# Examples of soft keywords\n",
    "a=True\n",
    "print(a) # True\n",
    "b=False\n",
    "print(b) # False\n",
    "c=None\n",
    "print(c) # None\n",
    "print(type(a),type(b),type(c)) # <class 'bool'> <class 'bool'> <class 'NoneType'>\n"
   ]
  },
  {
   "cell_type": "code",
   "execution_count": 5,
   "metadata": {},
   "outputs": [
    {
     "name": "stdout",
     "output_type": "stream",
     "text": [
      "it is hard keyword\n"
     ]
    }
   ],
   "source": [
    "user_keyword_soft_or_hard=input(\"Enter the keyword to check is it soft keyword or hard keyword \")\n",
    "if user_keyword_soft_or_hard in keyword.kwlist:\n",
    "    if user_keyword_soft_or_hard in [\"True\",\"False\",\"None\"]:\n",
    "        print(\"it is soft keyword\")\n",
    "    elif user_keyword_soft_or_hard in [\"if\",\"else\",\"elif\",\"while\",\"for\"]:    \n",
    "        print(\"it is hard keyword\")\n",
    "    else:\n",
    "        print(\"it is keyword but not soft and hard keyword\")    "
   ]
  },
  {
   "cell_type": "markdown",
   "metadata": {},
   "source": []
  },
  {
   "cell_type": "markdown",
   "metadata": {},
   "source": [
    "Certainly! The **`in`** keyword in Python is quite versatile and is used in various contexts. Let's explore some common use cases:\n",
    "\n",
    "1. **Checking Membership in a Sequence**:\n",
    "    - You can use the **`in`** keyword to check if a value is present in a sequence (such as a list, tuple, range, string, etc.).\n",
    "    - Example:\n",
    "        ```python\n",
    "        fruits = [\"apple\", \"banana\", \"cherry\"]\n",
    "        if \"banana\" in fruits:\n",
    "            print(\"Yes, 'banana' is in the list of fruits.\")\n",
    "        ```\n",
    "    - Output: \"Yes, 'banana' is in the list of fruits.\"\n",
    "\n",
    "2. **Iterating Through a Sequence**:\n",
    "    - The **`in`** keyword is also used to iterate through a sequence in a **for loop**.\n",
    "    - Example:\n",
    "        ```python\n",
    "        fruits = [\"apple\", \"banana\", \"cherry\"]\n",
    "        for fruit in fruits:\n",
    "            print(fruit)\n",
    "        ```\n",
    "    - Output:\n",
    "        ```\n",
    "        apple\n",
    "        banana\n",
    "        cherry\n",
    "        ```\n",
    "\n",
    "3. **Checking Dictionary Keys**:\n",
    "    - You can use **`in`** to check if a key exists in a dictionary.\n",
    "    - Example:\n",
    "        ```python\n",
    "        likes = {\"fruit\": \"apple\", \"hobby\": \"reading\", \"color\": \"blue\"}\n",
    "        if \"fruit\" in likes:\n",
    "            print(\"The key 'fruit' exists in the dictionary.\")\n",
    "        ```\n",
    "    - Output: \"The key 'fruit' exists in the dictionary.\"\n",
    "\n",
    "4. **Checking String Membership**:\n",
    "    - The **`in`** keyword can also be used to check if a substring exists within a string.\n",
    "    - Example:\n",
    "        ```python\n",
    "        sentence = \"Python is amazing!\"\n",
    "        if \"amazing\" in sentence:\n",
    "            print(\"The word 'amazing' is in the sentence.\")\n",
    "        ```\n",
    "    - Output: \"The word 'amazing' is in the sentence.\"\n",
    "\n",
    "5. **Using with Other Data Types**:\n",
    "    - You can use **`in`** with other data types like sets, ranges, and custom classes.\n",
    "    - Example:\n",
    "        ```python\n",
    "        my_set = {1, 2, 3}\n",
    "        if 2 in my_set:\n",
    "            print(\"2 is in the set.\")\n",
    "\n",
    "        my_range = range(5, 10)\n",
    "        if 7 in my_range:\n",
    "            print(\"7 is in the range.\")\n",
    "\n",
    "        # Custom class example (assuming you've defined a class called 'MyClass')\n",
    "        my_instance = MyClass()\n",
    "        if \"some_value\" in my_instance:\n",
    "            print(\"The value exists in the custom class.\")\n",
    "        ```\n",
    "\n",
    "Remember that the **`in`** keyword is a powerful tool for checking membership and iterating through sequences in Python! 🐍\n",
    "\n",
    "Source: Conversation with Bing, 2/4/2024\n",
    "(1) Python's \"in\" and \"not in\" Operators: Check for Membership. https://realpython.com/python-in-operator/.\n",
    "(2) Python in Keyword - GeeksforGeeks. https://www.geeksforgeeks.org/python-in-keyword/.\n",
    "(3) In Python: How to Use the In Keyword - Programming Geeks Club. https://programmingeeksclub.com/in-python-how-to-use-the-in-keyword/.\n",
    "(4) Python in Keyword - W3Schools. https://www.w3schools.com/python/ref_keyword_in.asp.\n",
    "(5) Python in Keyword - Python Examples. https://pythonexamples.org/python-in-keyword/."
   ]
  },
  {
   "cell_type": "code",
   "execution_count": null,
   "metadata": {},
   "outputs": [],
   "source": []
  }
 ],
 "metadata": {
  "kernelspec": {
   "display_name": "Python 3 (ipykernel)",
   "language": "python",
   "name": "python3"
  },
  "language_info": {
   "codemirror_mode": {
    "name": "ipython",
    "version": 3
   },
   "file_extension": ".py",
   "mimetype": "text/x-python",
   "name": "python",
   "nbconvert_exporter": "python",
   "pygments_lexer": "ipython3",
   "version": "3.11.5"
  }
 },
 "nbformat": 4,
 "nbformat_minor": 2
}
