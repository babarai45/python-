{
 "cells": [
  {
   "cell_type": "markdown",
   "metadata": {},
   "source": [
    "# what is python expression? \n",
    "## Python expressions only contain identifiers, literals, and operators.\n",
    "## it is collection of values and operators that reduce to a single value.\n",
    "## Python expressions are used to compute values.\n",
    "## in which line of code where implement some mathematically operation thats called python expresions \n",
    "#  There are 3 main types of expressions in Python:\n",
    "## 1 - unery oprater or single \n",
    "## 2 - binary oprater\n",
    "## 3 - Ternary oprater"
   ]
  },
  {
   "cell_type": "markdown",
   "metadata": {},
   "source": [
    " <img src=\"operater.jpg\"><br>"
   ]
  },
  {
   "cell_type": "markdown",
   "metadata": {},
   "source": [
    "Here is the operator precedence chart for Python:\n",
    "\n",
    "| Operator | Description |\n",
    "| --- | --- |\n",
    "| `()` | Parentheses |\n",
    "| `**` | Exponentiation |\n",
    "| `+x`, `-x`, `~x` | Unary plus, Unary minus, Bitwise NOT |\n",
    "| `*`, `/`, `//`, `%` | Multiplication, Division, Floor division, Modulus |\n",
    "| `+`, `-` | Addition, Subtraction |\n",
    "| `<<`, `>>` | Bitwise shift operators |\n",
    "| `&` | Bitwise AND |\n",
    "| `^` | Bitwise XOR |\n",
    "| `|` | Bitwise OR |\n",
    "| `==`, `!=`, `>`, `>=`, `<`, `<=`, `is`, `is not`, `in`, `not in` | Comparisons, Identity, Membership operators |\n",
    "| `not` | Logical NOT |\n",
    "| `and` | Logical AND |\n",
    "| `or` | Logical OR |\n",
    "\n",
    "Parentheses have the highest precedence, followed by exponentiation, unary plus, unary minus, and bitwise NOT. Multiplication, division, floor division, and modulus have the next highest precedence, followed by addition and subtraction. Bitwise shift operators, bitwise AND, bitwise XOR, and bitwise OR have the next highest precedence, followed by comparisons, identity, and membership operators. Logical NOT has the next highest precedence, followed by logical AND and logical OR. \n",
    "\n",
    "I hope this helps! Let me know if you have any other questions. 😊\n",
    "\n",
    "Source: Conversation with Bing, 2/5/2024\n",
    "(1) Precedence and Associativity of Operators in Python - Programiz. https://www.programiz.com/python-programming/precedence-associativity.\n",
    "(2) Precedence and Associativity of Operators in Python. https://www.geeksforgeeks.org/precedence-and-associativity-of-operators-in-python/.\n",
    "(3) Operator Precedence in Python - Python Geeks. https://pythongeeks.org/python-operator-precedence/."
   ]
  },
  {
   "cell_type": "code",
   "execution_count": 4,
   "metadata": {},
   "outputs": [
    {
     "name": "stdout",
     "output_type": "stream",
     "text": [
      "5\n",
      "-5\n",
      "-6\n"
     ]
    }
   ],
   "source": [
    "# there are 3 types of python expresion \n",
    "# 1 unary expression  \n",
    "# 2 binary expression\n",
    "# 3 ternary expression\n",
    "###############3333\n",
    "# unary expression only have one operand  and one operator \n",
    "# sign of unary expression is + or - \n",
    "# example of unary expression\n",
    "# +x\n",
    "# -x\n",
    "# -5\n",
    "# +5\n",
    "# -5.5\n",
    "# +5.5\n",
    "# exaample of unary expression \n",
    "var=+5\n",
    "print(var)\n",
    "var2=-5\n",
    "print(var2)\n"
   ]
  },
  {
   "cell_type": "code",
   "execution_count": null,
   "metadata": {},
   "outputs": [],
   "source": [
    "# binary expression have two operand and one operator\n",
    "# tye of binary expression or operator\n",
    "# 1 arithmetic operator\n",
    "# 2 relational operator\n",
    "# 3 logical operator\n",
    "# 4 bitwise operator\n",
    "# 5 assignment operator\n",
    "# 6 membership operator\n",
    "# 7 identity operator\n",
    "# example of binary expression\n",
    "# 5+5"
   ]
  },
  {
   "cell_type": "code",
   "execution_count": 7,
   "metadata": {},
   "outputs": [
    {
     "name": "stdout",
     "output_type": "stream",
     "text": [
      "9\n",
      "-1\n",
      "20\n",
      "0.8\n",
      "4\n",
      "0\n",
      "1024\n"
     ]
    }
   ],
   "source": [
    "############### arithmetic operator (+,-,*,/,%,//,**)################\n",
    "# PRECEDENCE OF ARITHMETIC OPERATOR \n",
    "# 1. exponentiation (**)\n",
    "# 2. unary plus and minus (+x, -x) \n",
    "# 3. multiplication, division, and remainder (*, /, %)  left to right\n",
    "# 4. addition and subtraction (+, -)  left to right \n",
    "# 5. floor division (//)  left to right\n",
    "# + addition value of two operand\n",
    "a=4; b=5 ;c=a+b ;print(c) # 9  after adding 4 and 5 we get 9\n",
    "# - subtraction value of two operand\n",
    "a=4; b=5 ;c=a-b ;print(c) # -1  after subtracting 4 from 5 we get -1\n",
    "# * multiplication value of two operand\n",
    "a=4; b=5 ;c=a*b ;print(c) # 20  after multiplying 4 and 5 we get 20\n",
    "# / division value of two operand\n",
    "a=4; b=5 ;c=a/b ;print(c) # 0.8  after dividing 4 by 5 we get 0.8\n",
    "# % modulus value of two operand \n",
    "a=4; b=5 ;c=a%b ;print(c) # 4  after dividing 4 by 5 we get 4 as remainder \n",
    "# // floor division value of two operand    \n",
    "a=4; b=5 ;c=a//b ;print(c) # 0  after dividing 4 by 5 we get 0 as quotient\n",
    "# ** exponent value of two operand\n",
    "a=4; b=5 ;c=a**b ;print(c) # 1024  after 4 power 5 we get 1024\n",
    "# example of binary expression\n"
   ]
  },
  {
   "cell_type": "code",
   "execution_count": 1,
   "metadata": {},
   "outputs": [
    {
     "name": "stdout",
     "output_type": "stream",
     "text": [
      "False\n",
      "True\n",
      "False\n",
      "True\n",
      "False\n",
      "True\n"
     ]
    }
   ],
   "source": [
    "##### Relational operator (==,!=,>,<,>=,<=)################\n",
    "# == equal to \n",
    "a=4; b=5 ;c=a==b ;print(c) # False  4 is not equal to 5 so it return False  \n",
    "# != not equal to\n",
    "a=4; b=5 ;c=a!=b ;print(c) # True  4 is not equal to 5 so it return True\n",
    "# > greater than\n",
    "a=4; b=5 ;c=a>b ;print(c) # False  4 is not greater than 5 so it return False\n",
    "# < less than\n",
    "a=4; b=5 ;c=a<b ;print(c) # True  4 is less than 5 so it return True\n",
    "# >= greater than or equal to\n",
    "a=4; b=5 ;c=a>=b ;print(c) # False  4 is not greater than or equal to 5 so it return False\n",
    "# <= less than or equal to\n",
    "a=4; b=5 ;c=a<=b ;print(c) # True  4 is less than or equal to 5 so it return True"
   ]
  },
  {
   "cell_type": "code",
   "execution_count": null,
   "metadata": {},
   "outputs": [],
   "source": [
    "##### Logical operator (and,or,not)################\n",
    "# and logical and\n",
    "a=4; b=5 ;c=a>3 and b>3 ;print(c) # True  4 is greater than 3 and 5 is greater than 3 so it return True\n"
   ]
  }
 ],
 "metadata": {
  "kernelspec": {
   "display_name": "Python 3",
   "language": "python",
   "name": "python3"
  },
  "language_info": {
   "codemirror_mode": {
    "name": "ipython",
    "version": 3
   },
   "file_extension": ".py",
   "mimetype": "text/x-python",
   "name": "python",
   "nbconvert_exporter": "python",
   "pygments_lexer": "ipython3",
   "version": "3.12.1"
  }
 },
 "nbformat": 4,
 "nbformat_minor": 2
}
