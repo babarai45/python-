{
 "cells": [
  {
   "cell_type": "markdown",
   "id": "54c01a89",
   "metadata": {},
   "source": [
    "# what is python?\n",
    "### python is gernal purpose(used for all domain) programing language ,high level,open source (free)\n",
    "### Richest(sub se ziyad libray han ) and easy to use "
   ]
  },
  {
   "cell_type": "markdown",
   "id": "93c5d303",
   "metadata": {},
   "source": [
    "#  Agenda of today class#1 \n",
    "## Python Fundamentals \n",
    "### - Basic syntax and keywords\n",
    "### - Variables and data types\n",
    "### - please  read out PEP8  <a href=\"https://realpython.com/python-pep8/\">ARTICAL (VIP) </a>\n"
   ]
  },
  {
   "cell_type": "code",
   "execution_count": 1,
   "id": "990f843c",
   "metadata": {},
   "outputs": [
    {
     "name": "stdout",
     "output_type": "stream",
     "text": [
      "hell world \n"
     ]
    }
   ],
   "source": [
    "print(\"hell world \")\n",
    "# here is print is function that is used to show output on the screen\n",
    "# > there are two things in python \n",
    "# -1 is function  and -2 is methods  lets see difference between them --\n",
    "#\n",
    "#    FUNCTION                                       METHODS\n",
    "# 1- function is independent             **  But method are depended example list is class it have many\n",
    "#   example  def or print not method         methods (.append,.dell etc)\n",
    "# \n",
    "# conitune  we laenn in deatil in next class "
   ]
  },
  {
   "cell_type": "code",
   "execution_count": 2,
   "id": "8a72b77e",
   "metadata": {},
   "outputs": [
    {
     "name": "stdout",
     "output_type": "stream",
     "text": [
      "hello world\n",
      "hello world\n",
      "None\n",
      "hello world\n",
      "None\n",
      "None\n",
      "hello world\n",
      "None\n",
      "None\n",
      "[1, 2, 3, 4, 5, 6]\n",
      "5\n",
      "[1, 2, 3, 4]\n",
      "None\n",
      "[]\n",
      "hello world\n",
      "hello world\n",
      "HELLO WORLD\n",
      "hello world\n",
      "hello world\n"
     ]
    }
   ],
   "source": [
    "# what is print function \n",
    "# print function is used to showput on the screen\n",
    "# example\n",
    "print(\"hello world\")\n",
    "# is print retun any value?\n",
    "# yes print return none value\n",
    "# example 1\n",
    "print(print(\"hello world\"))\n",
    "# example 2\n",
    "print(print(print(\"hello world\")))\n",
    "# example 3\n",
    "x=print(\"hello world\")\n",
    "print(x)\n",
    "# so why return none value\n",
    "# because print is function not method\n",
    "# so method return value but function not return value\n",
    "# example  of return value of method\n",
    "# example 1\n",
    "x=[1,2,3,4,5]\n",
    "print(x.append(6))\n",
    "print(x)\n",
    "# example 2\n",
    "x=[1,2,3,4,5]\n",
    "print(x.pop())\n",
    "print(x)    \n",
    "# example 3\n",
    "x=[1,2,3,4,5]\n",
    "print(x.clear())\n",
    "print(x)\n",
    "# more difference between function and method\n",
    "# function is independent but method are depended \n",
    "# more difference \n",
    "# function is not have any class but method have class\n",
    "# example 1 of function \n",
    "def hello(): # this is function\n",
    "    print(\"hello world\") # this body of function \n",
    "hello() # this is calling of function\n",
    "# example 2 of class\n",
    "x=\"hello world\" # this is str\n",
    "\n",
    "# function\n",
    "def hello():\n",
    "    print(\"hello world\")\n",
    "hello()\n",
    "# method\n",
    "x=\"hello world\"\n",
    "print(x.upper())\n",
    "# example 2\n",
    "# function\n",
    "def hello():\n",
    "    print(\"hello world\")\n",
    "hello()\n",
    "# method\n",
    "x=\"hello world\"\n",
    "print(x.lower())\n",
    "# plaese add  ahead of each line comment for understanding "
   ]
  },
  {
   "cell_type": "code",
   "execution_count": null,
   "id": "97b34293",
   "metadata": {},
   "outputs": [],
   "source": [
    "                   #######################################################################"
   ]
  },
  {
   "cell_type": "markdown",
   "id": "1394910c",
   "metadata": {},
   "source": [
    "\n",
    " # <font color=green>Python </font> <font color=blue>Variable </font> and <font color=#FF0000>Data Tpyes </font><br><br><br>\n",
    " <img src=\"images/pic1.jpeg\"><br>\n",
    " <img src=\"images/gif.gif\">\n",
    " \n",
    "Every value that we declare in python has a data type. Data types are classes and variables are the instances of these classes.\n",
    "## Python has the following data types built-in by default, in these categories:\n",
    "## Text Type:\tstr\n",
    "## Numeric Types:\tint, float, complex\n",
    "## Sequence Types:\tlist, tuple, range\n",
    "## Mapping Type:\tdict\n",
    "## Set Types:\tset, frozenset\n",
    "## Boolean Type:\tbool\n",
    "## Binary Types:\tbytes, bytearray, memoryview\n",
    "\n",
    "#### Basic 5 types data types in python \n",
    "##### 1 > int (integer)\n",
    "#####  2 >  (float)\n",
    "##### 3 > str (string)\n",
    "1>string is combination of charater, or sequense of character and array of character and we can say \n",
    "1 <b>boolen by defaul values is false</b><br>\n",
    "it is vector values according to mathematicaly (one dimensional)\n",
    "2> 2d array is called matrix \n",
    "3> and matrix of matrix is called tensor data \n",
    "4> so therefore google develop a framwork by name of tensorflow because it is used for large data manupulation mathematically\n",
    "5> <b>string by deaful values is null </b>\n",
    "##### 4 > bool (boolen)\n",
    "\n",
    "1 <b>boolen by defaul values is false</b><br>\n",
    "2 boolean is subcalss of int\n",
    "\n",
    "\n",
    "##### 5 > complex (a+2j)\n",
    "   varile is scalar value according to mathematical baecause it is single value \n",
    "   "
   ]
  },
  {
   "cell_type": "markdown",
   "id": "9a0866c1",
   "metadata": {},
   "source": [
    " # <font color=green></font>, <font color=blue>blue italised text</font>, and <font color=#FF0000>red bold text</font> <img src=\"gif.gif\">"
   ]
  },
  {
   "cell_type": "markdown",
   "id": "b3790e4d",
   "metadata": {},
   "source": [
    "<h1> <span style=\"color:#3498db; background-color:#ecf0f1; padding:10px; border-radius:5px; display:inline-block;\">\n",
    "    FIRST IS NUMERIC DATA TYPES </span></h1>\n"
   ]
  },
  {
   "cell_type": "markdown",
   "id": "76de4f0a",
   "metadata": {},
   "source": [
    "### There are three types of numeric data types <br>\n",
    "### >1 int<br>\n",
    "### >2 float<br>\n",
    "### >1 complex<br>\n"
   ]
  },
  {
   "cell_type": "markdown",
   "id": "4ef41a2c",
   "metadata": {},
   "source": [
    "<h1> <span style=\"color:#3498db; background-color:#ecf0f1; padding:10px; border-radius:5px; display:inline-block;\">\n",
    "    INTEGER(INT) </span></h1>\n"
   ]
  },
  {
   "cell_type": "code",
   "execution_count": 4,
   "id": "9ece68cf",
   "metadata": {},
   "outputs": [
    {
     "name": "stdout",
     "output_type": "stream",
     "text": [
      "value of a is  5\n",
      "datatype of a is  <class 'int'>\n",
      "memory id or address of a  140712864813992\n",
      "here is default value is b  0\n"
     ]
    }
   ],
   "source": [
    "# in we interger data types we can store numerical valuse it could be positive and negtive and \n",
    "# its size could be big or small \n",
    "a=5 # here a is name of varible and its values is 5 and its datatype is integer and = sign is used \n",
    "# to assign a values to a variable \n",
    "print(\"value of a is \",a)\n",
    "print(\"datatype of a is \",type(a))\n",
    "print(\"memory id or address of a \", id(a))\n",
    "# and integer default value is 0 it return 0 example \n",
    "b=int()\n",
    "print( \"here is default value is b \",b)\n",
    "# here type() or id() is biult-in function \n"
   ]
  },
  {
   "cell_type": "code",
   "execution_count": 5,
   "id": "03ff969d",
   "metadata": {},
   "outputs": [
    {
     "name": "stdout",
     "output_type": "stream",
     "text": [
      "2\n",
      "234546\n",
      "-27899449\n",
      "45\n",
      "78\n"
     ]
    }
   ],
   "source": [
    "# here is more example \n",
    "num1 = 2 # here 2 is assinge oa a  means alwasy right side is value and left side is name of variable \n",
    "num2 = 234546 # it could be longest values \n",
    "num3 = -27899449 # it could be negtive values \n",
    "print(num1)\n",
    "print(num2)\n",
    "print(num3)\n",
    "#############\n",
    "num4 = int(45) # here is int we add manualy  and it also called typecasting )\n",
    "print(num4)\n",
    "# for example type casting \n",
    "num5=78.5 # it is float type of variable so if i want to convert into int so\n",
    "print(int(num5)) # so here it ignore after .point values it is called type casting \n"
   ]
  },
  {
   "cell_type": "code",
   "execution_count": 6,
   "id": "4d8602b7",
   "metadata": {},
   "outputs": [
    {
     "name": "stdout",
     "output_type": "stream",
     "text": [
      "0\n"
     ]
    }
   ],
   "source": [
    "# integer default values is always 0 let check!\n",
    "x=int()\n",
    "print(x)"
   ]
  },
  {
   "cell_type": "markdown",
   "id": "54ec9948",
   "metadata": {},
   "source": [
    "#### some biut-in function for interger "
   ]
  },
  {
   "cell_type": "code",
   "execution_count": 7,
   "id": "f3774bed",
   "metadata": {},
   "outputs": [
    {
     "name": "stdout",
     "output_type": "stream",
     "text": [
      "a and its  <class 'str'>\n",
      "after conversion its type is  <class 'int'>\n",
      "################################\n",
      "befor converstion it type <class 'float'>\n",
      "after converstion its type  <class 'int'>\n"
     ]
    }
   ],
   "source": [
    "# int() it is function that is mostly used for typecastion or converstion\n",
    "\n",
    "# example 1 \n",
    "\n",
    "a=\"10\" # its string\n",
    "a1=int(a)\n",
    "print(\"a and its \",type(a))\n",
    "print(\"after conversion its type is \", type(a1))\n",
    " ####################\n",
    "print(\"################################\")\n",
    "# example 2\n",
    "b=22.5 #  it is float \n",
    "print(\"befor converstion it type\",type(b) ) \n",
    "b1=int(b)\n",
    "print(\"after converstion its type \", type(b1))\n"
   ]
  },
  {
   "cell_type": "code",
   "execution_count": 16,
   "id": "9e725000",
   "metadata": {},
   "outputs": [
    {
     "name": "stdout",
     "output_type": "stream",
     "text": [
      "45 <class 'int'>\n",
      "33345\n",
      "1052929\n",
      "101101\n"
     ]
    }
   ],
   "source": [
    "# binary converstion  using int function by defaul it select decimal =10\n",
    "# syntax    int(x,10)  here is x=,numbers  or string to convert to integer  or conversion \n",
    "#  and base  10 is default like decimal =10, and we can change for \n",
    "# conversion like binary=2,octal=8, hexadecimal=16\n",
    "# for as this convertion first create variable and assign function and in w\n",
    "\n",
    "a = int(\"101101\", 2)   # here is \"101101\" is string to \n",
    "print(a,type(a))\n",
    "\n",
    "b=int(\"101101\",8) # to octal\n",
    "print(b)\n",
    "\n",
    "c=int(\"101101\",16)  # to hexadecimal\n",
    "print(c)\n",
    "\n",
    "d=int(\"101101\",10)  # to decimal\n",
    "print(d)"
   ]
  },
  {
   "cell_type": "code",
   "execution_count": 9,
   "id": "1fd9ef4a",
   "metadata": {
    "scrolled": true
   },
   "outputs": [
    {
     "name": "stdout",
     "output_type": "stream",
     "text": [
      "1\n",
      "0\n"
     ]
    }
   ],
   "source": [
    "# can we convert bool values ?\n",
    "# yes we can convert bool to integer \n",
    "# example 4 \n",
    "a=True\n",
    "print(int(a))\n",
    "#############\n",
    "c=False \n",
    "print(int(c))"
   ]
  },
  {
   "cell_type": "markdown",
   "id": "a687c826",
   "metadata": {},
   "source": [
    "<h1> <span style=\"color:#3498db; background-color:#ecf0f1; padding:8px; border-radius:5px; display:inline-block;\">\n",
    "    Here are some of the commonly used built-in functions in Python that work with integers:\n",
    " </span></h1>\n"
   ]
  },
  {
   "cell_type": "code",
   "execution_count": 10,
   "id": "3ed921e8",
   "metadata": {},
   "outputs": [
    {
     "name": "stdout",
     "output_type": "stream",
     "text": [
      "123.67\n"
     ]
    }
   ],
   "source": [
    "#1 - abs() - Returns absolute value of an integer\n",
    "#exampel \n",
    "a=-123.67\n",
    "print(abs(a)) # it remove - sign and return possitive value \n"
   ]
  },
  {
   "cell_type": "code",
   "execution_count": 17,
   "id": "8d665e10",
   "metadata": {},
   "outputs": [
    {
     "name": "stdout",
     "output_type": "stream",
     "text": [
      "0b101101\n"
     ]
    }
   ],
   "source": [
    "# - bin() - Converts integer to binary string \n",
    "a=45\n",
    "print(bin(a))"
   ]
  },
  {
   "cell_type": "code",
   "execution_count": 21,
   "id": "c6d2662a",
   "metadata": {},
   "outputs": [
    {
     "name": "stdout",
     "output_type": "stream",
     "text": [
      "(4, 1)\n"
     ]
    }
   ],
   "source": [
    "# - divmod() - Returns quotient and remainder of integer division\n",
    "# it is used to get reminder like mode  for this we put 2 values \n",
    "# example\n",
    "print(divmod(9,2)) # big value inner value and 2 outer  and here reminder is 1"
   ]
  },
  {
   "cell_type": "code",
   "execution_count": 25,
   "id": "df5adf48",
   "metadata": {},
   "outputs": [
    {
     "name": "stdout",
     "output_type": "stream",
     "text": [
      "0xd8b\n",
      "0xa8ff0ac72\n"
     ]
    }
   ],
   "source": [
    "# - hex() - Converts integer to hexadecimal string\n",
    "a=hex(3467)\n",
    "print(a)\n",
    "print(hex(45364587634))"
   ]
  },
  {
   "cell_type": "code",
   "execution_count": 26,
   "id": "4345045c",
   "metadata": {},
   "outputs": [
    {
     "ename": "TypeError",
     "evalue": "'int' object is not iterable",
     "output_type": "error",
     "traceback": [
      "\u001b[1;31m---------------------------------------------------------------------------\u001b[0m",
      "\u001b[1;31mTypeError\u001b[0m                                 Traceback (most recent call last)",
      "Cell \u001b[1;32mIn[26], line 3\u001b[0m\n\u001b[0;32m      1\u001b[0m \u001b[38;5;66;03m# - max() - Returns largest of given integers\u001b[39;00m\n\u001b[0;32m      2\u001b[0m a\u001b[38;5;241m=\u001b[39m\u001b[38;5;241m5774923\u001b[39m\n\u001b[1;32m----> 3\u001b[0m \u001b[38;5;28mprint\u001b[39m(\u001b[38;5;28;43mmax\u001b[39;49m\u001b[43m(\u001b[49m\u001b[43ma\u001b[49m\u001b[43m)\u001b[49m)\n\u001b[0;32m      5\u001b[0m \u001b[38;5;66;03m# - min() - Returns smallest of given integers\u001b[39;00m\n",
      "\u001b[1;31mTypeError\u001b[0m: 'int' object is not iterable"
     ]
    }
   ],
   "source": [
    "# - max() - Returns largest of given integers\n",
    "a=5774923\n",
    "print(max(a))\n",
    "\n",
    "# - min() - Returns smallest of given integers\n"
   ]
  },
  {
   "cell_type": "code",
   "execution_count": null,
   "id": "8c78e4f7",
   "metadata": {},
   "outputs": [],
   "source": []
  },
  {
   "cell_type": "markdown",
   "id": "9894dacf",
   "metadata": {},
   "source": [
    "<h1> <span style=\"color:#3498db; background-color:#ecf0f1; padding:10px; border-radius:5px; display:inline-block;\">\n",
    "    FLOAT </span></h1>\n"
   ]
  },
  {
   "cell_type": "code",
   "execution_count": 11,
   "id": "02e4122e",
   "metadata": {},
   "outputs": [
    {
     "name": "stdout",
     "output_type": "stream",
     "text": [
      "value is  10.05\n",
      "data type of this values is  <class 'float'>\n"
     ]
    }
   ],
   "source": [
    "# float is types of number or numeric datatypes\n",
    "# it is used for storing decimal numbers or points value \n",
    "value = 10.05 # it is point or decimal values \n",
    "# if want to check its data types so we use type() function \n",
    "print(\"value is \",value)\n",
    "print(\"data type of this values is \",type(value))"
   ]
  },
  {
   "cell_type": "code",
   "execution_count": null,
   "id": "5b44050d",
   "metadata": {},
   "outputs": [],
   "source": []
  },
  {
   "cell_type": "code",
   "execution_count": null,
   "id": "f5500910",
   "metadata": {},
   "outputs": [],
   "source": []
  },
  {
   "cell_type": "code",
   "execution_count": null,
   "id": "95a52514",
   "metadata": {},
   "outputs": [],
   "source": []
  },
  {
   "cell_type": "code",
   "execution_count": null,
   "id": "b396e1d7",
   "metadata": {},
   "outputs": [],
   "source": []
  }
 ],
 "metadata": {
  "kernelspec": {
   "display_name": "Python 3 (ipykernel)",
   "language": "python",
   "name": "python3"
  },
  "language_info": {
   "codemirror_mode": {
    "name": "ipython",
    "version": 3
   },
   "file_extension": ".py",
   "mimetype": "text/x-python",
   "name": "python",
   "nbconvert_exporter": "python",
   "pygments_lexer": "ipython3",
   "version": "3.11.5"
  }
 },
 "nbformat": 4,
 "nbformat_minor": 5
}
